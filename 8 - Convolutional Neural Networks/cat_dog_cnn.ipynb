{
 "nbformat": 4,
 "nbformat_minor": 2,
 "metadata": {
  "language_info": {
   "name": "python",
   "codemirror_mode": {
    "name": "ipython",
    "version": 3
   },
   "version": "3.7.6-final"
  },
  "orig_nbformat": 2,
  "file_extension": ".py",
  "mimetype": "text/x-python",
  "name": "python",
  "npconvert_exporter": "python",
  "pygments_lexer": "ipython3",
  "version": 3,
  "kernelspec": {
   "name": "tensorflow_gpuenv",
   "display_name": "tensorflow_gpuenv"
  }
 },
 "cells": [
  {
   "cell_type": "markdown",
   "execution_count": null,
   "metadata": {},
   "outputs": [],
   "source": [
    "## Importiamo i Moduli"
   ]
  },
  {
   "cell_type": "code",
   "execution_count": 2,
   "metadata": {},
   "outputs": [],
   "source": [
    "import numpy as np\n",
    "from sklearn.model_selection import train_test_split\n",
    "from tensorflow.keras.models import Sequential\n",
    "from tensorflow.keras.layers import Dense, Conv2D, Flatten, Dropout\n",
    "\n",
    "from tensorflow.keras.layers import MaxPooling2D"
   ]
  },
  {
   "cell_type": "markdown",
   "execution_count": 5,
   "metadata": {},
   "outputs": [],
   "source": [
    "## Carichiamo il Dataset"
   ]
  },
  {
   "cell_type": "code",
   "execution_count": 4,
   "metadata": {},
   "outputs": [],
   "source": [
    "DATASET_PATH = \"../datasets/cat_dog/cat_dog.csv\"\n",
    "dataset = np.loadtxt(open(DATASET_PATH, \"rb\"), delimiter=\",\")"
   ]
  },
  {
   "cell_type": "markdown",
   "execution_count": null,
   "metadata": {},
   "outputs": [],
   "source": [
    "## Prepariamo i Dati"
   ]
  },
  {
   "cell_type": "code",
   "execution_count": 6,
   "metadata": {},
   "outputs": [],
   "source": [
    "X = dataset[:,1:-1]\n",
    "y = dataset[:,-1:]"
   ]
  },
  {
   "cell_type": "code",
   "execution_count": 7,
   "metadata": {},
   "outputs": [],
   "source": [
    "X_train, X_test, y_train, y_test = train_test_split(X,y, test_size=0.3, random_state=0)"
   ]
  },
  {
   "cell_type": "code",
   "execution_count": 8,
   "metadata": {},
   "outputs": [],
   "source": [
    "X_train/=255.\n",
    "X_test/=255."
   ]
  },
  {
   "cell_type": "code",
   "execution_count": 9,
   "metadata": {},
   "outputs": [],
   "source": [
    "X_train = X_train.reshape((X_train.shape[0], 64, 64, 1))\n",
    "X_test = X_test.reshape((X_test.shape[0], 64, 64, 1))"
   ]
  },
  {
   "cell_type": "markdown",
   "execution_count": null,
   "metadata": {},
   "outputs": [],
   "source": [
    "## Creiamo la Rete Neurale"
   ]
  },
  {
   "cell_type": "code",
   "execution_count": 10,
   "metadata": {},
   "outputs": [
    {
     "name": "stdout",
     "output_type": "stream",
     "text": "WARNING:tensorflow:From C:\\Users\\gfgul\\AppData\\Local\\Continuum\\anaconda3\\envs\\tf_env\\lib\\site-packages\\tensorflow_core\\python\\ops\\resource_variable_ops.py:1630: calling BaseResourceVariable.__init__ (from tensorflow.python.ops.resource_variable_ops) with constraint is deprecated and will be removed in a future version.\nInstructions for updating:\nIf using Keras pass *_constraint arguments to layers.\nWARNING:tensorflow:From C:\\Users\\gfgul\\AppData\\Local\\Continuum\\anaconda3\\envs\\tf_env\\lib\\site-packages\\tensorflow_core\\python\\ops\\nn_impl.py:183: where (from tensorflow.python.ops.array_ops) is deprecated and will be removed in a future version.\nInstructions for updating:\nUse tf.where in 2.0, which has the same broadcast rule as np.where\n"
    }
   ],
   "source": [
    "model = Sequential()\n",
    "\n",
    "model.add(Conv2D(filters=64, kernel_size=2, padding='same', activation='relu', input_shape=(64,64,1)))\n",
    "model.add(MaxPooling2D(pool_size=2, strides=2))\n",
    "model.add(Dropout(0.5))\n",
    "model.add(Conv2D(filters=32, kernel_size=2, padding='same', activation='relu'))\n",
    "model.add(MaxPooling2D(pool_size=2, strides=2))\n",
    "model.add(Dropout(0.5))\n",
    "model.add(Flatten())\n",
    "model.add(Dense(256, activation='relu'))\n",
    "model.add(Dropout(0.5))\n",
    "model.add(Dense(1, activation='sigmoid'))\n",
    "\n",
    "model.compile(optimizer=\"adam\", loss=\"binary_crossentropy\", metrics=[\"accuracy\"])"
   ]
  },
  {
   "cell_type": "code",
   "execution_count": 11,
   "metadata": {},
   "outputs": [
    {
     "name": "stdout",
     "output_type": "stream",
     "text": "Train on 17500 samples\nEpoch 1/30\n17500/17500 [==============================] - 5s 286us/sample - loss: 0.7348 - acc: 0.5039\nEpoch 2/30\n17500/17500 [==============================] - 2s 119us/sample - loss: 0.6924 - acc: 0.5082\nEpoch 3/30\n17500/17500 [==============================] - 2s 119us/sample - loss: 0.6912 - acc: 0.5219\nEpoch 4/30\n17500/17500 [==============================] - 2s 119us/sample - loss: 0.6874 - acc: 0.5465\nEpoch 5/30\n17500/17500 [==============================] - 2s 119us/sample - loss: 0.6745 - acc: 0.5806\nEpoch 6/30\n17500/17500 [==============================] - 2s 119us/sample - loss: 0.6464 - acc: 0.6215\nEpoch 7/30\n17500/17500 [==============================] - 2s 120us/sample - loss: 0.6350 - acc: 0.6326\nEpoch 8/30\n17500/17500 [==============================] - 2s 120us/sample - loss: 0.6300 - acc: 0.6451\nEpoch 9/30\n17500/17500 [==============================] - 2s 119us/sample - loss: 0.6240 - acc: 0.6516\nEpoch 10/30\n17500/17500 [==============================] - 2s 117us/sample - loss: 0.6199 - acc: 0.6586\nEpoch 11/30\n17500/17500 [==============================] - 2s 118us/sample - loss: 0.6233 - acc: 0.6494\nEpoch 12/30\n17500/17500 [==============================] - 2s 119us/sample - loss: 0.6115 - acc: 0.6682\nEpoch 13/30\n17500/17500 [==============================] - 2s 120us/sample - loss: 0.6029 - acc: 0.6702\nEpoch 14/30\n17500/17500 [==============================] - 2s 119us/sample - loss: 0.5976 - acc: 0.6794\nEpoch 15/30\n17500/17500 [==============================] - 2s 120us/sample - loss: 0.5814 - acc: 0.6953\nEpoch 16/30\n17500/17500 [==============================] - 2s 120us/sample - loss: 0.5705 - acc: 0.7072\nEpoch 17/30\n17500/17500 [==============================] - 2s 118us/sample - loss: 0.5602 - acc: 0.7185\nEpoch 18/30\n17500/17500 [==============================] - 2s 118us/sample - loss: 0.5532 - acc: 0.7243\nEpoch 19/30\n17500/17500 [==============================] - 2s 119us/sample - loss: 0.5522 - acc: 0.7256\nEpoch 20/30\n17500/17500 [==============================] - 2s 119us/sample - loss: 0.5473 - acc: 0.7298\nEpoch 21/30\n17500/17500 [==============================] - 2s 118us/sample - loss: 0.5423 - acc: 0.7334\nEpoch 22/30\n17500/17500 [==============================] - 2s 119us/sample - loss: 0.5328 - acc: 0.7385\nEpoch 23/30\n17500/17500 [==============================] - 2s 120us/sample - loss: 0.5307 - acc: 0.7391\nEpoch 24/30\n17500/17500 [==============================] - 2s 120us/sample - loss: 0.5268 - acc: 0.7427\nEpoch 25/30\n17500/17500 [==============================] - 2s 121us/sample - loss: 0.5188 - acc: 0.7472\nEpoch 26/30\n17500/17500 [==============================] - 2s 120us/sample - loss: 0.5163 - acc: 0.7499\nEpoch 27/30\n17500/17500 [==============================] - 2s 120us/sample - loss: 0.5153 - acc: 0.7510\nEpoch 28/30\n17500/17500 [==============================] - 2s 119us/sample - loss: 0.5098 - acc: 0.7527\nEpoch 29/30\n17500/17500 [==============================] - 2s 117us/sample - loss: 0.5064 - acc: 0.7551\nEpoch 30/30\n17500/17500 [==============================] - 2s 119us/sample - loss: 0.5111 - acc: 0.7542\n"
    },
    {
     "data": {
      "text/plain": "<tensorflow.python.keras.callbacks.History at 0x262b77b1ec8>"
     },
     "execution_count": 11,
     "metadata": {},
     "output_type": "execute_result"
    }
   ],
   "source": [
    "model.fit(X_train, y_train, epochs=30, batch_size=512)"
   ]
  },
  {
   "cell_type": "markdown",
   "execution_count": null,
   "metadata": {},
   "outputs": [],
   "source": [
    "## Valutiamo il Modello"
   ]
  },
  {
   "cell_type": "code",
   "execution_count": 12,
   "metadata": {},
   "outputs": [
    {
     "name": "stdout",
     "output_type": "stream",
     "text": "Train Accuracy = 0.7857 - Train Loss = 0.4634\nTest Accuracy = 0.7547 - Test Loss = 0.5021\n"
    }
   ],
   "source": [
    "metrics_train = model.evaluate(X_train, y_train, verbose=0)\n",
    "metrics_test = model.evaluate(X_test, y_test, verbose=0)\n",
    "\n",
    "print(\"Train Accuracy = %.4f - Train Loss = %.4f\" % (metrics_train[1], metrics_train[0]))\n",
    "print(\"Test Accuracy = %.4f - Test Loss = %.4f\" % (metrics_test[1], metrics_test[0]))"
   ]
  },
  {
   "cell_type": "markdown",
   "execution_count": null,
   "metadata": {},
   "outputs": [],
   "source": [
    "## Esportiamo il Modello"
   ]
  },
  {
   "cell_type": "code",
   "execution_count": 13,
   "metadata": {},
   "outputs": [],
   "source": [
    "model.save(\"model_cnn.h5\")"
   ]
  }
 ]
}