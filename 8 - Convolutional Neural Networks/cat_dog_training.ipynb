{
 "nbformat": 4,
 "nbformat_minor": 2,
 "metadata": {
  "language_info": {
   "name": "python",
   "codemirror_mode": {
    "name": "ipython",
    "version": 3
   },
   "version": "3.7.6-final"
  },
  "orig_nbformat": 2,
  "file_extension": ".py",
  "mimetype": "text/x-python",
  "name": "python",
  "npconvert_exporter": "python",
  "pygments_lexer": "ipython3",
  "version": 3,
  "kernelspec": {
   "name": "tensorflow_gpuenv",
   "display_name": "tensorflow_gpuenv"
  }
 },
 "cells": [
  {
   "cell_type": "markdown",
   "execution_count": null,
   "metadata": {},
   "outputs": [],
   "source": [
    "## Importiamo i Moduli"
   ]
  },
  {
   "cell_type": "code",
   "execution_count": 3,
   "metadata": {},
   "outputs": [],
   "source": [
    "import numpy as np\n",
    "from sklearn.model_selection import train_test_split\n",
    "from tensorflow.keras.models import Sequential\n",
    "from tensorflow.keras.layers import Dense, Dropout"
   ]
  },
  {
   "cell_type": "markdown",
   "execution_count": 1,
   "metadata": {},
   "outputs": [],
   "source": [
    "## Carichiamo il Dataset"
   ]
  },
  {
   "cell_type": "code",
   "execution_count": 5,
   "metadata": {},
   "outputs": [],
   "source": [
    "DATASET_PATH = \"../datasets/cat_dog/cat_dog.csv\"\n",
    "dataset = np.loadtxt(open(DATASET_PATH, \"rb\"), delimiter=\",\")"
   ]
  },
  {
   "cell_type": "markdown",
   "execution_count": null,
   "metadata": {},
   "outputs": [],
   "source": [
    "## Prepariamo i Dati"
   ]
  },
  {
   "cell_type": "code",
   "execution_count": 6,
   "metadata": {},
   "outputs": [],
   "source": [
    "X = dataset[:,1:-1]\n",
    "y = dataset[:,-1:]"
   ]
  },
  {
   "cell_type": "code",
   "execution_count": 7,
   "metadata": {},
   "outputs": [],
   "source": [
    "X_train, X_test, y_train, y_test = train_test_split(X,y, test_size=0.3, random_state=0)"
   ]
  },
  {
   "cell_type": "code",
   "execution_count": 8,
   "metadata": {},
   "outputs": [],
   "source": [
    "X_train/=255.\n",
    "X_test/=255."
   ]
  },
  {
   "cell_type": "markdown",
   "execution_count": null,
   "metadata": {},
   "outputs": [],
   "source": [
    "## Creiamo la Rete Neurale"
   ]
  },
  {
   "cell_type": "code",
   "execution_count": 9,
   "metadata": {},
   "outputs": [
    {
     "name": "stdout",
     "output_type": "stream",
     "text": "WARNING:tensorflow:From C:\\Users\\gfgul\\AppData\\Local\\Continuum\\anaconda3\\envs\\tf_env\\lib\\site-packages\\tensorflow_core\\python\\ops\\resource_variable_ops.py:1630: calling BaseResourceVariable.__init__ (from tensorflow.python.ops.resource_variable_ops) with constraint is deprecated and will be removed in a future version.\nInstructions for updating:\nIf using Keras pass *_constraint arguments to layers.\nWARNING:tensorflow:From C:\\Users\\gfgul\\AppData\\Local\\Continuum\\anaconda3\\envs\\tf_env\\lib\\site-packages\\tensorflow_core\\python\\ops\\nn_impl.py:183: where (from tensorflow.python.ops.array_ops) is deprecated and will be removed in a future version.\nInstructions for updating:\nUse tf.where in 2.0, which has the same broadcast rule as np.where\n"
    }
   ],
   "source": [
    "model = Sequential()\n",
    "model.add(Dense(512, activation='relu', input_dim=X_train.shape[1]))\n",
    "model.add(Dropout(0.5))\n",
    "model.add(Dense(256, activation='relu'))\n",
    "model.add(Dropout(0.5))\n",
    "model.add(Dense(128, activation='relu'))\n",
    "model.add(Dropout(0.5))\n",
    "model.add(Dense(1, activation='sigmoid'))\n",
    "\n",
    "model.compile(optimizer=\"adam\", loss=\"binary_crossentropy\", metrics=[\"accuracy\"])"
   ]
  },
  {
   "cell_type": "code",
   "execution_count": 11,
   "metadata": {},
   "outputs": [
    {
     "name": "stdout",
     "output_type": "stream",
     "text": "Train on 17500 samples\nEpoch 1/10\n17500/17500 [==============================] - 1s 39us/sample - loss: 0.6731 - acc: 0.5778\nEpoch 2/10\n17500/17500 [==============================] - 1s 39us/sample - loss: 0.6730 - acc: 0.5786\nEpoch 3/10\n17500/17500 [==============================] - 1s 39us/sample - loss: 0.6716 - acc: 0.5798\nEpoch 4/10\n17500/17500 [==============================] - 1s 39us/sample - loss: 0.6719 - acc: 0.5765\nEpoch 5/10\n17500/17500 [==============================] - 1s 39us/sample - loss: 0.6743 - acc: 0.5736\nEpoch 6/10\n17500/17500 [==============================] - 1s 41us/sample - loss: 0.6730 - acc: 0.5722\nEpoch 7/10\n17500/17500 [==============================] - 1s 41us/sample - loss: 0.6707 - acc: 0.5804\nEpoch 8/10\n17500/17500 [==============================] - 1s 39us/sample - loss: 0.6705 - acc: 0.5797\nEpoch 9/10\n17500/17500 [==============================] - 1s 39us/sample - loss: 0.6718 - acc: 0.5781\nEpoch 10/10\n17500/17500 [==============================] - 1s 39us/sample - loss: 0.6710 - acc: 0.5826\n"
    },
    {
     "data": {
      "text/plain": "<tensorflow.python.keras.callbacks.History at 0x2ecc3d3f988>"
     },
     "execution_count": 11,
     "metadata": {},
     "output_type": "execute_result"
    }
   ],
   "source": [
    "model.fit(X_train, y_train, epochs=30, batch_size=512)"
   ]
  },
  {
   "cell_type": "markdown",
   "execution_count": null,
   "metadata": {},
   "outputs": [],
   "source": [
    "## Valutiamo il Modello"
   ]
  },
  {
   "cell_type": "code",
   "execution_count": 14,
   "metadata": {},
   "outputs": [
    {
     "name": "stdout",
     "output_type": "stream",
     "text": "Train Accuracy = 0.5909 - Train Loss = 0.6772\nTest Accuracy = 0.5717 - Test Loss = 0.6813\n"
    }
   ],
   "source": [
    "metrics_train = model.evaluate(X_train, y_train, verbose=0)\n",
    "metrics_test = model.evaluate(X_test, y_test, verbose=0)\n",
    "\n",
    "print(\"Train Accuracy = %.4f - Train Loss = %.4f\" % (metrics_train[1], metrics_train[0]))\n",
    "print(\"Test Accuracy = %.4f - Test Loss = %.4f\" % (metrics_test[1], metrics_test[0]))"
   ]
  },
  {
   "cell_type": "markdown",
   "execution_count": 16,
   "metadata": {},
   "outputs": [],
   "source": [
    "## Esportiamo il Modello"
   ]
  },
  {
   "cell_type": "code",
   "execution_count": 15,
   "metadata": {},
   "outputs": [],
   "source": [
    "model.save(\"model_mlp.h5\")"
   ]
  }
 ]
}