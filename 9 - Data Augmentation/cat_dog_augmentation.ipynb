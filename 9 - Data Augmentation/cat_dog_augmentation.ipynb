{
 "nbformat": 4,
 "nbformat_minor": 2,
 "metadata": {
  "language_info": {
   "name": "python",
   "codemirror_mode": {
    "name": "ipython",
    "version": 3
   },
   "version": "3.7.6-final"
  },
  "orig_nbformat": 2,
  "file_extension": ".py",
  "mimetype": "text/x-python",
  "name": "python",
  "npconvert_exporter": "python",
  "pygments_lexer": "ipython3",
  "version": 3,
  "kernelspec": {
   "name": "python3",
   "display_name": "Python 3"
  }
 },
 "cells": [
  {
   "cell_type": "markdown",
   "execution_count": null,
   "metadata": {},
   "outputs": [],
   "source": [
    "## Importiamo i Moduli"
   ]
  },
  {
   "cell_type": "code",
   "execution_count": 1,
   "metadata": {},
   "outputs": [],
   "source": [
    "from tensorflow.keras.models import Sequential\n",
    "from tensorflow.keras.layers import Conv2D, MaxPooling2D\n",
    "from tensorflow.keras.layers import Dropout, Flatten, Dense\n",
    "from tensorflow.keras.preprocessing.image import ImageDataGenerator"
   ]
  },
  {
   "cell_type": "markdown",
   "execution_count": null,
   "metadata": {},
   "outputs": [],
   "source": [
    "## Configuriamo i Generatori"
   ]
  },
  {
   "cell_type": "code",
   "execution_count": 2,
   "metadata": {},
   "outputs": [],
   "source": [
    "DATASET_DIR = \"../datasets/cat_dog/classes\"\n",
    "BATCH_SIZE = 16"
   ]
  },
  {
   "cell_type": "code",
   "execution_count": 3,
   "metadata": {},
   "outputs": [
    {
     "name": "stdout",
     "output_type": "stream",
     "text": "Found 17500 images belonging to 2 classes.\nFound 7500 images belonging to 2 classes.\n"
    }
   ],
   "source": [
    "datagen = ImageDataGenerator(\n",
    "        validation_split=0.3,\n",
    "        rescale=1./255,\n",
    "        shear_range=0.2,\n",
    "        zoom_range=0.2,\n",
    "        horizontal_flip=True)\n",
    "\n",
    "train_generator = datagen.flow_from_directory(\n",
    "        \"train\", \n",
    "        target_size=(200, 200), \n",
    "        batch_size=BATCH_SIZE,\n",
    "        class_mode='binary',\n",
    "        subset='training')\n",
    "\n",
    "test_generator = datagen.flow_from_directory(\n",
    "        \"train\",\n",
    "        target_size=(200, 200),\n",
    "        batch_size=BATCH_SIZE,\n",
    "        class_mode='binary',\n",
    "        subset='validation')"
   ]
  },
  {
   "cell_type": "code",
   "execution_count": 10,
   "metadata": {},
   "outputs": [
    {
     "data": {
      "text/plain": "{'cats': 0, 'dogs': 1}"
     },
     "execution_count": 10,
     "metadata": {},
     "output_type": "execute_result"
    }
   ],
   "source": [
    "train_generator.class_indices"
   ]
  },
  {
   "cell_type": "markdown",
   "execution_count": null,
   "metadata": {},
   "outputs": [],
   "source": [
    "## Creiamo il Modello"
   ]
  },
  {
   "cell_type": "code",
   "execution_count": 5,
   "metadata": {},
   "outputs": [
    {
     "name": "stdout",
     "output_type": "stream",
     "text": "WARNING:tensorflow:From C:\\Users\\gfgul\\AppData\\Local\\Continuum\\anaconda3\\envs\\tf_env\\lib\\site-packages\\keras\\backend\\tensorflow_backend.py:74: The name tf.get_default_graph is deprecated. Please use tf.compat.v1.get_default_graph instead.\n\nWARNING:tensorflow:From C:\\Users\\gfgul\\AppData\\Local\\Continuum\\anaconda3\\envs\\tf_env\\lib\\site-packages\\keras\\backend\\tensorflow_backend.py:517: The name tf.placeholder is deprecated. Please use tf.compat.v1.placeholder instead.\n\nWARNING:tensorflow:From C:\\Users\\gfgul\\AppData\\Local\\Continuum\\anaconda3\\envs\\tf_env\\lib\\site-packages\\keras\\backend\\tensorflow_backend.py:4138: The name tf.random_uniform is deprecated. Please use tf.random.uniform instead.\n\nWARNING:tensorflow:From C:\\Users\\gfgul\\AppData\\Local\\Continuum\\anaconda3\\envs\\tf_env\\lib\\site-packages\\keras\\backend\\tensorflow_backend.py:3976: The name tf.nn.max_pool is deprecated. Please use tf.nn.max_pool2d instead.\n\nWARNING:tensorflow:From C:\\Users\\gfgul\\AppData\\Local\\Continuum\\anaconda3\\envs\\tf_env\\lib\\site-packages\\keras\\backend\\tensorflow_backend.py:133: The name tf.placeholder_with_default is deprecated. Please use tf.compat.v1.placeholder_with_default instead.\n\nWARNING:tensorflow:From C:\\Users\\gfgul\\AppData\\Local\\Continuum\\anaconda3\\envs\\tf_env\\lib\\site-packages\\keras\\backend\\tensorflow_backend.py:3445: calling dropout (from tensorflow.python.ops.nn_ops) with keep_prob is deprecated and will be removed in a future version.\nInstructions for updating:\nPlease use `rate` instead of `keep_prob`. Rate should be set to `rate = 1 - keep_prob`.\nWARNING:tensorflow:From C:\\Users\\gfgul\\AppData\\Local\\Continuum\\anaconda3\\envs\\tf_env\\lib\\site-packages\\keras\\optimizers.py:790: The name tf.train.Optimizer is deprecated. Please use tf.compat.v1.train.Optimizer instead.\n\nWARNING:tensorflow:From C:\\Users\\gfgul\\AppData\\Local\\Continuum\\anaconda3\\envs\\tf_env\\lib\\site-packages\\keras\\backend\\tensorflow_backend.py:3376: The name tf.log is deprecated. Please use tf.math.log instead.\n\nWARNING:tensorflow:From C:\\Users\\gfgul\\AppData\\Local\\Continuum\\anaconda3\\envs\\tf_env\\lib\\site-packages\\tensorflow_core\\python\\ops\\nn_impl.py:183: where (from tensorflow.python.ops.array_ops) is deprecated and will be removed in a future version.\nInstructions for updating:\nUse tf.where in 2.0, which has the same broadcast rule as np.where\nUsing TensorFlow backend.\n"
    }
   ],
   "source": [
    "from keras.models import Sequential\n",
    "from keras.layers import Conv2D, MaxPooling2D\n",
    "from keras.layers import Dropout, Flatten, Dense\n",
    "\n",
    "model = Sequential()\n",
    "model.add(Conv2D(filters=32, kernel_size=3, activation=\"relu\", input_shape=(200, 200, 3)))\n",
    "model.add(MaxPooling2D(pool_size=2))\n",
    "\n",
    "model.add(Conv2D(filters=32, kernel_size=3, activation=\"relu\"))\n",
    "model.add(MaxPooling2D(pool_size=2))\n",
    "\n",
    "model.add(Conv2D(filters=64, kernel_size=3))\n",
    "model.add(MaxPooling2D(pool_size=2))\n",
    "\n",
    "model.add(Flatten())\n",
    "model.add(Dense(64, activation=\"relu\"))\n",
    "model.add(Dropout(0.5))\n",
    "model.add(Dense(1, activation=\"sigmoid\"))\n",
    "\n",
    "model.compile(loss='binary_crossentropy',\n",
    "              optimizer='rmsprop',\n",
    "              metrics=['accuracy'])"
   ]
  },
  {
   "cell_type": "code",
   "execution_count": 6,
   "metadata": {},
   "outputs": [
    {
     "name": "stdout",
     "output_type": "stream",
     "text": "WARNING:tensorflow:From C:\\Users\\gfgul\\AppData\\Local\\Continuum\\anaconda3\\envs\\tf_env\\lib\\site-packages\\keras\\backend\\tensorflow_backend.py:986: The name tf.assign_add is deprecated. Please use tf.compat.v1.assign_add instead.\n\nWARNING:tensorflow:From C:\\Users\\gfgul\\AppData\\Local\\Continuum\\anaconda3\\envs\\tf_env\\lib\\site-packages\\keras\\backend\\tensorflow_backend.py:973: The name tf.assign is deprecated. Please use tf.compat.v1.assign instead.\n\nWARNING:tensorflow:From C:\\Users\\gfgul\\AppData\\Local\\Continuum\\anaconda3\\envs\\tf_env\\lib\\site-packages\\keras\\backend\\tensorflow_backend.py:2741: The name tf.Session is deprecated. Please use tf.compat.v1.Session instead.\n\nEpoch 1/100\nWARNING:tensorflow:From C:\\Users\\gfgul\\AppData\\Local\\Continuum\\anaconda3\\envs\\tf_env\\lib\\site-packages\\keras\\backend\\tensorflow_backend.py:174: The name tf.get_default_session is deprecated. Please use tf.compat.v1.get_default_session instead.\n\nWARNING:tensorflow:From C:\\Users\\gfgul\\AppData\\Local\\Continuum\\anaconda3\\envs\\tf_env\\lib\\site-packages\\keras\\backend\\tensorflow_backend.py:181: The name tf.ConfigProto is deprecated. Please use tf.compat.v1.ConfigProto instead.\n\nWARNING:tensorflow:From C:\\Users\\gfgul\\AppData\\Local\\Continuum\\anaconda3\\envs\\tf_env\\lib\\site-packages\\keras\\backend\\tensorflow_backend.py:190: The name tf.global_variables is deprecated. Please use tf.compat.v1.global_variables instead.\n\nWARNING:tensorflow:From C:\\Users\\gfgul\\AppData\\Local\\Continuum\\anaconda3\\envs\\tf_env\\lib\\site-packages\\keras\\backend\\tensorflow_backend.py:199: The name tf.is_variable_initialized is deprecated. Please use tf.compat.v1.is_variable_initialized instead.\n\nWARNING:tensorflow:From C:\\Users\\gfgul\\AppData\\Local\\Continuum\\anaconda3\\envs\\tf_env\\lib\\site-packages\\keras\\backend\\tensorflow_backend.py:206: The name tf.variables_initializer is deprecated. Please use tf.compat.v1.variables_initializer instead.\n\n125/125 [==============================] - 20s 157ms/step - loss: 0.8347 - acc: 0.5060\nEpoch 2/100\n125/125 [==============================] - 15s 122ms/step - loss: 0.7323 - acc: 0.5330\nEpoch 3/100\n125/125 [==============================] - 15s 123ms/step - loss: 0.7251 - acc: 0.5630\nEpoch 4/100\n125/125 [==============================] - 15s 123ms/step - loss: 0.7030 - acc: 0.5920\nEpoch 5/100\n125/125 [==============================] - 15s 122ms/step - loss: 0.6760 - acc: 0.6295\nEpoch 6/100\n125/125 [==============================] - 15s 123ms/step - loss: 0.6613 - acc: 0.6105\nEpoch 7/100\n125/125 [==============================] - 15s 122ms/step - loss: 0.6627 - acc: 0.6340\nEpoch 8/100\n125/125 [==============================] - 15s 121ms/step - loss: 0.6431 - acc: 0.6465\nEpoch 9/100\n125/125 [==============================] - 15s 121ms/step - loss: 0.6484 - acc: 0.6578\nEpoch 10/100\n125/125 [==============================] - 15s 117ms/step - loss: 0.6332 - acc: 0.6675\nEpoch 11/100\n125/125 [==============================] - 15s 118ms/step - loss: 0.6350 - acc: 0.6705\nEpoch 12/100\n125/125 [==============================] - 15s 118ms/step - loss: 0.6379 - acc: 0.6620\nEpoch 13/100\n125/125 [==============================] - 15s 119ms/step - loss: 0.6298 - acc: 0.6685\nEpoch 14/100\n125/125 [==============================] - 15s 118ms/step - loss: 0.6390 - acc: 0.6580\nEpoch 15/100\n125/125 [==============================] - 15s 119ms/step - loss: 0.6116 - acc: 0.6880\nEpoch 16/100\n125/125 [==============================] - 15s 119ms/step - loss: 0.6284 - acc: 0.6970\nEpoch 17/100\n125/125 [==============================] - 15s 118ms/step - loss: 0.6037 - acc: 0.6990\nEpoch 18/100\n125/125 [==============================] - 15s 120ms/step - loss: 0.5946 - acc: 0.6993\nEpoch 19/100\n125/125 [==============================] - 15s 119ms/step - loss: 0.5782 - acc: 0.7040\nEpoch 20/100\n125/125 [==============================] - 15s 119ms/step - loss: 0.6042 - acc: 0.6855\nEpoch 21/100\n125/125 [==============================] - 15s 119ms/step - loss: 0.5809 - acc: 0.7215\nEpoch 22/100\n125/125 [==============================] - 15s 120ms/step - loss: 0.5956 - acc: 0.7155\nEpoch 23/100\n125/125 [==============================] - 15s 122ms/step - loss: 0.5786 - acc: 0.7150\nEpoch 24/100\n125/125 [==============================] - 15s 122ms/step - loss: 0.5468 - acc: 0.7380\nEpoch 25/100\n125/125 [==============================] - 15s 119ms/step - loss: 0.5584 - acc: 0.7300\nEpoch 26/100\n125/125 [==============================] - 15s 117ms/step - loss: 0.5411 - acc: 0.7510\nEpoch 27/100\n125/125 [==============================] - 15s 118ms/step - loss: 0.5310 - acc: 0.7343\nEpoch 28/100\n125/125 [==============================] - 15s 118ms/step - loss: 0.5506 - acc: 0.7220\nEpoch 29/100\n125/125 [==============================] - 15s 118ms/step - loss: 0.5570 - acc: 0.7185\nEpoch 30/100\n125/125 [==============================] - 15s 119ms/step - loss: 0.5465 - acc: 0.7430\nEpoch 31/100\n125/125 [==============================] - 15s 120ms/step - loss: 0.5361 - acc: 0.7495\nEpoch 32/100\n125/125 [==============================] - 15s 118ms/step - loss: 0.5513 - acc: 0.7570\nEpoch 33/100\n125/125 [==============================] - 15s 117ms/step - loss: 0.5447 - acc: 0.7335\nEpoch 34/100\n125/125 [==============================] - 15s 118ms/step - loss: 0.5485 - acc: 0.7385\nEpoch 35/100\n125/125 [==============================] - 15s 119ms/step - loss: 0.5300 - acc: 0.7490\nEpoch 36/100\n125/125 [==============================] - 15s 118ms/step - loss: 0.5346 - acc: 0.7533\nEpoch 37/100\n125/125 [==============================] - 15s 119ms/step - loss: 0.5117 - acc: 0.7620\nEpoch 38/100\n125/125 [==============================] - 15s 119ms/step - loss: 0.5328 - acc: 0.7455\nEpoch 39/100\n125/125 [==============================] - 15s 122ms/step - loss: 0.5347 - acc: 0.7560\nEpoch 40/100\n125/125 [==============================] - 15s 121ms/step - loss: 0.5167 - acc: 0.7550\nEpoch 41/100\n125/125 [==============================] - 15s 120ms/step - loss: 0.5155 - acc: 0.7575\nEpoch 42/100\n125/125 [==============================] - 15s 122ms/step - loss: 0.5172 - acc: 0.7585\nEpoch 43/100\n125/125 [==============================] - 15s 120ms/step - loss: 0.5127 - acc: 0.7565\nEpoch 44/100\n125/125 [==============================] - 15s 118ms/step - loss: 0.5050 - acc: 0.7662\nEpoch 45/100\n125/125 [==============================] - 15s 118ms/step - loss: 0.5110 - acc: 0.7760\nEpoch 46/100\n125/125 [==============================] - 15s 118ms/step - loss: 0.5137 - acc: 0.7545\nEpoch 47/100\n125/125 [==============================] - 15s 118ms/step - loss: 0.5150 - acc: 0.7730\nEpoch 48/100\n125/125 [==============================] - 15s 118ms/step - loss: 0.4982 - acc: 0.7590\nEpoch 49/100\n125/125 [==============================] - 15s 118ms/step - loss: 0.5321 - acc: 0.7505\nEpoch 50/100\n125/125 [==============================] - 15s 118ms/step - loss: 0.4873 - acc: 0.7745\nEpoch 51/100\n125/125 [==============================] - 15s 118ms/step - loss: 0.5129 - acc: 0.7640\nEpoch 52/100\n125/125 [==============================] - 15s 119ms/step - loss: 0.4889 - acc: 0.7675\nEpoch 53/100\n125/125 [==============================] - 15s 118ms/step - loss: 0.4956 - acc: 0.7668\nEpoch 54/100\n125/125 [==============================] - 15s 118ms/step - loss: 0.4842 - acc: 0.7720\nEpoch 55/100\n125/125 [==============================] - 15s 119ms/step - loss: 0.5008 - acc: 0.7625\nEpoch 56/100\n125/125 [==============================] - 15s 118ms/step - loss: 0.4936 - acc: 0.7735\nEpoch 57/100\n125/125 [==============================] - 15s 117ms/step - loss: 0.5199 - acc: 0.7700\nEpoch 58/100\n125/125 [==============================] - 15s 118ms/step - loss: 0.4751 - acc: 0.7795\nEpoch 59/100\n125/125 [==============================] - 15s 118ms/step - loss: 0.4999 - acc: 0.7770\nEpoch 60/100\n125/125 [==============================] - 15s 118ms/step - loss: 0.4848 - acc: 0.7860\nEpoch 61/100\n125/125 [==============================] - 15s 118ms/step - loss: 0.4714 - acc: 0.7910\nEpoch 62/100\n125/125 [==============================] - 15s 118ms/step - loss: 0.4923 - acc: 0.7780\nEpoch 63/100\n125/125 [==============================] - 15s 119ms/step - loss: 0.4774 - acc: 0.7885\nEpoch 64/100\n125/125 [==============================] - 15s 119ms/step - loss: 0.4937 - acc: 0.7820\nEpoch 65/100\n125/125 [==============================] - 15s 118ms/step - loss: 0.4860 - acc: 0.7840\nEpoch 66/100\n125/125 [==============================] - 15s 117ms/step - loss: 0.4903 - acc: 0.7740\nEpoch 67/100\n125/125 [==============================] - 15s 120ms/step - loss: 0.4977 - acc: 0.7790\nEpoch 68/100\n125/125 [==============================] - 15s 118ms/step - loss: 0.4661 - acc: 0.7920\nEpoch 69/100\n125/125 [==============================] - 15s 118ms/step - loss: 0.4695 - acc: 0.7815\nEpoch 70/100\n125/125 [==============================] - 15s 118ms/step - loss: 0.4465 - acc: 0.8015\nEpoch 71/100\n125/125 [==============================] - 15s 117ms/step - loss: 0.4793 - acc: 0.7968\nEpoch 72/100\n125/125 [==============================] - 15s 118ms/step - loss: 0.4910 - acc: 0.7750\nEpoch 73/100\n125/125 [==============================] - 16s 125ms/step - loss: 0.4635 - acc: 0.7870\nEpoch 74/100\n125/125 [==============================] - 16s 127ms/step - loss: 0.4820 - acc: 0.7745\nEpoch 75/100\n125/125 [==============================] - 15s 123ms/step - loss: 0.4626 - acc: 0.8035\nEpoch 76/100\n125/125 [==============================] - 16s 124ms/step - loss: 0.4887 - acc: 0.7855\nEpoch 77/100\n125/125 [==============================] - 15s 124ms/step - loss: 0.4663 - acc: 0.7890\nEpoch 78/100\n125/125 [==============================] - 15s 123ms/step - loss: 0.4965 - acc: 0.7735\nEpoch 79/100\n125/125 [==============================] - 16s 125ms/step - loss: 0.4651 - acc: 0.7907\nEpoch 80/100\n125/125 [==============================] - 15s 122ms/step - loss: 0.4946 - acc: 0.7625\nEpoch 81/100\n125/125 [==============================] - 15s 121ms/step - loss: 0.4605 - acc: 0.7885\nEpoch 82/100\n125/125 [==============================] - 16s 125ms/step - loss: 0.4484 - acc: 0.7985\nEpoch 83/100\n125/125 [==============================] - 15s 119ms/step - loss: 0.4815 - acc: 0.7880\nEpoch 84/100\n125/125 [==============================] - 15s 120ms/step - loss: 0.4592 - acc: 0.7975\nEpoch 85/100\n125/125 [==============================] - 15s 119ms/step - loss: 0.4775 - acc: 0.7900\nEpoch 86/100\n125/125 [==============================] - 15s 119ms/step - loss: 0.4932 - acc: 0.7885\nEpoch 87/100\n125/125 [==============================] - 15s 122ms/step - loss: 0.4464 - acc: 0.7915\nEpoch 88/100\n125/125 [==============================] - 15s 121ms/step - loss: 0.4764 - acc: 0.7905\nEpoch 89/100\n125/125 [==============================] - 15s 118ms/step - loss: 0.4406 - acc: 0.7925\nEpoch 90/100\n125/125 [==============================] - 15s 117ms/step - loss: 0.4362 - acc: 0.8030\nEpoch 91/100\n125/125 [==============================] - 15s 117ms/step - loss: 0.4750 - acc: 0.7940\nEpoch 92/100\n125/125 [==============================] - 15s 118ms/step - loss: 0.4490 - acc: 0.7990\nEpoch 93/100\n125/125 [==============================] - 15s 116ms/step - loss: 0.4564 - acc: 0.7920\nEpoch 94/100\n125/125 [==============================] - 15s 116ms/step - loss: 0.4249 - acc: 0.8155\nEpoch 95/100\n125/125 [==============================] - 15s 116ms/step - loss: 0.4552 - acc: 0.7995\nEpoch 96/100\n125/125 [==============================] - 14s 116ms/step - loss: 0.4806 - acc: 0.8005\nEpoch 97/100\n125/125 [==============================] - 14s 116ms/step - loss: 0.4535 - acc: 0.7877\nEpoch 98/100\n125/125 [==============================] - 15s 116ms/step - loss: 0.4628 - acc: 0.8060\nEpoch 99/100\n125/125 [==============================] - 15s 116ms/step - loss: 0.4457 - acc: 0.8060\nEpoch 100/100\n125/125 [==============================] - 15s 116ms/step - loss: 0.4548 - acc: 0.7920\n"
    },
    {
     "data": {
      "text/plain": "<keras.callbacks.History at 0x1f099540f88>"
     },
     "execution_count": 6,
     "metadata": {},
     "output_type": "execute_result"
    }
   ],
   "source": [
    "model.fit_generator(\n",
    "        train_generator,\n",
    "        steps_per_epoch=2000 // BATCH_SIZE,\n",
    "        epochs=100)"
   ]
  },
  {
   "cell_type": "markdown",
   "execution_count": null,
   "metadata": {},
   "outputs": [],
   "source": [
    "## Valutiamo il Modello"
   ]
  },
  {
   "cell_type": "code",
   "execution_count": 8,
   "metadata": {},
   "outputs": [
    {
     "name": "stdout",
     "output_type": "stream",
     "text": "Train Accuracy = 0.8242 - Train Loss = 0.4420\nTest Accuracy = 0.8438 - Test Loss = 0.3834\n"
    }
   ],
   "source": [
    "metrics_train = model.evaluate_generator(train_generator, steps=BATCH_SIZE)\n",
    "metrics_test = model.evaluate_generator(test_generator, steps=BATCH_SIZE)\n",
    "\n",
    "print(\"Train Accuracy = %.4f - Train Loss = %.4f\" % (metrics_train[1], metrics_train[0]))\n",
    "print(\"Test Accuracy = %.4f - Test Loss = %.4f\" % (metrics_test[1], metrics_test[0]))"
   ]
  },
  {
   "cell_type": "markdown",
   "execution_count": null,
   "metadata": {},
   "outputs": [],
   "source": [
    "## Esportiamo il Modello"
   ]
  },
  {
   "cell_type": "code",
   "execution_count": 9,
   "metadata": {},
   "outputs": [],
   "source": [
    "model.save(\"model_aug.h5\")"
   ]
  }
 ]
}