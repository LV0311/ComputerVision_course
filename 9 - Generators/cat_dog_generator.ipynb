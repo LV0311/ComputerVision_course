{
 "nbformat": 4,
 "nbformat_minor": 2,
 "metadata": {
  "language_info": {
   "name": "python",
   "codemirror_mode": {
    "name": "ipython",
    "version": 3
   },
   "version": "3.7.6-final"
  },
  "orig_nbformat": 2,
  "file_extension": ".py",
  "mimetype": "text/x-python",
  "name": "python",
  "npconvert_exporter": "python",
  "pygments_lexer": "ipython3",
  "version": 3,
  "kernelspec": {
   "name": "python3",
   "display_name": "Python 3"
  }
 },
 "cells": [
  {
   "cell_type": "markdown",
   "execution_count": null,
   "metadata": {},
   "outputs": [],
   "source": [
    "## Importiamo i Moduli"
   ]
  },
  {
   "cell_type": "code",
   "execution_count": 2,
   "metadata": {},
   "outputs": [],
   "source": [
    "from tensorflow.keras.models import Sequential\n",
    "from tensorflow.keras.layers import Conv2D, MaxPooling2D\n",
    "from tensorflow.keras.layers import Dropout, Flatten, Dense"
   ]
  },
  {
   "cell_type": "markdown",
   "execution_count": null,
   "metadata": {},
   "outputs": [],
   "source": [
    "## Configuriamo i Generatori"
   ]
  },
  {
   "cell_type": "code",
   "execution_count": 3,
   "metadata": {},
   "outputs": [],
   "source": [
    "DATASET_DIR = \"../datasets/cat_dog/classes\"\n",
    "BATCH_SIZE = 16"
   ]
  },
  {
   "cell_type": "code",
   "execution_count": 5,
   "metadata": {},
   "outputs": [
    {
     "name": "stdout",
     "output_type": "stream",
     "text": "Found 17500 images belonging to 2 classes.\nFound 7500 images belonging to 2 classes.\n"
    }
   ],
   "source": [
    "from tensorflow.keras.preprocessing.image import ImageDataGenerator\n",
    "\n",
    "datagen = ImageDataGenerator(validation_split=0.3, rescale=1./255,)\n",
    "\n",
    "train_generator = datagen.flow_from_directory(\n",
    "        DATASET_DIR, \n",
    "        target_size=(150, 150), \n",
    "        batch_size=BATCH_SIZE,\n",
    "        class_mode='binary',\n",
    "        subset='training')\n",
    "\n",
    "test_generator = datagen.flow_from_directory(\n",
    "        DATASET_DIR,\n",
    "        target_size=(150, 150),\n",
    "        batch_size=BATCH_SIZE,\n",
    "        class_mode='binary',\n",
    "        subset='validation')"
   ]
  },
  {
   "cell_type": "code",
   "execution_count": 6,
   "metadata": {},
   "outputs": [
    {
     "data": {
      "text/plain": "{'cats': 0, 'dogs': 1}"
     },
     "execution_count": 6,
     "metadata": {},
     "output_type": "execute_result"
    }
   ],
   "source": [
    "train_generator.class_indices"
   ]
  },
  {
   "cell_type": "markdown",
   "execution_count": null,
   "metadata": {},
   "outputs": [],
   "source": [
    "## Creiamo il Modello"
   ]
  },
  {
   "cell_type": "code",
   "execution_count": 20,
   "metadata": {},
   "outputs": [],
   "source": [
    "model = Sequential()\n",
    "\n",
    "model.add(Conv2D(filters=64, kernel_size=2, padding='same', activation='relu', input_shape=(150, 150, 3)))\n",
    "model.add(MaxPooling2D(pool_size=2, strides=2))\n",
    "model.add(Dropout(0.5))\n",
    "model.add(Conv2D(filters=32, kernel_size=2, padding='same', activation='relu'))\n",
    "model.add(MaxPooling2D(pool_size=2, strides=2))\n",
    "model.add(Dropout(0.5))\n",
    "model.add(Flatten())\n",
    "model.add(Dense(256, activation='relu'))\n",
    "model.add(Dropout(0.5))\n",
    "model.add(Dense(1, activation='sigmoid'))\n",
    "\n",
    "model.compile(optimizer=\"adam\", loss=\"binary_crossentropy\", metrics=[\"accuracy\"])"
   ]
  },
  {
   "cell_type": "code",
   "execution_count": 21,
   "metadata": {},
   "outputs": [
    {
     "name": "stdout",
     "output_type": "stream",
     "text": "Epoch 1/50\n125/125 [==============================] - 4s 29ms/step - loss: 0.9301 - acc: 0.5370\nEpoch 2/50\n125/125 [==============================] - 2s 19ms/step - loss: 0.6926 - acc: 0.5115\nEpoch 3/50\n125/125 [==============================] - 2s 19ms/step - loss: 0.6847 - acc: 0.5230\nEpoch 4/50\n125/125 [==============================] - 2s 19ms/step - loss: 0.6646 - acc: 0.5830\nEpoch 5/50\n125/125 [==============================] - 2s 19ms/step - loss: 0.6716 - acc: 0.5870\nEpoch 6/50\n125/125 [==============================] - 2s 19ms/step - loss: 0.6473 - acc: 0.6017\nEpoch 7/50\n125/125 [==============================] - 2s 19ms/step - loss: 0.6313 - acc: 0.6345\nEpoch 8/50\n125/125 [==============================] - 2s 19ms/step - loss: 0.6264 - acc: 0.6290\nEpoch 9/50\n125/125 [==============================] - 2s 19ms/step - loss: 0.5941 - acc: 0.6580\nEpoch 10/50\n125/125 [==============================] - 2s 19ms/step - loss: 0.5744 - acc: 0.6894\nEpoch 11/50\n125/125 [==============================] - 2s 20ms/step - loss: 0.5857 - acc: 0.6870\nEpoch 12/50\n125/125 [==============================] - 2s 20ms/step - loss: 0.5703 - acc: 0.6995\nEpoch 13/50\n125/125 [==============================] - 2s 20ms/step - loss: 0.5749 - acc: 0.6985\nEpoch 14/50\n125/125 [==============================] - 3s 20ms/step - loss: 0.5643 - acc: 0.7150\nEpoch 15/50\n125/125 [==============================] - 2s 20ms/step - loss: 0.5488 - acc: 0.7170\nEpoch 16/50\n125/125 [==============================] - 3s 20ms/step - loss: 0.5537 - acc: 0.7315\nEpoch 17/50\n125/125 [==============================] - 2s 20ms/step - loss: 0.5491 - acc: 0.7170\nEpoch 18/50\n125/125 [==============================] - 3s 20ms/step - loss: 0.5522 - acc: 0.7200\nEpoch 19/50\n125/125 [==============================] - 2s 19ms/step - loss: 0.5002 - acc: 0.7480\nEpoch 20/50\n125/125 [==============================] - 3s 21ms/step - loss: 0.5253 - acc: 0.7395\nEpoch 21/50\n125/125 [==============================] - 2s 20ms/step - loss: 0.5348 - acc: 0.7360\nEpoch 22/50\n125/125 [==============================] - 2s 20ms/step - loss: 0.5174 - acc: 0.7480\nEpoch 23/50\n125/125 [==============================] - 2s 19ms/step - loss: 0.5012 - acc: 0.7605\nEpoch 24/50\n125/125 [==============================] - 2s 20ms/step - loss: 0.5350 - acc: 0.7320\nEpoch 25/50\n125/125 [==============================] - 2s 19ms/step - loss: 0.5184 - acc: 0.7490\nEpoch 26/50\n125/125 [==============================] - 3s 20ms/step - loss: 0.5239 - acc: 0.7480\nEpoch 27/50\n125/125 [==============================] - 3s 27ms/step - loss: 0.4900 - acc: 0.7790\nEpoch 28/50\n125/125 [==============================] - 4s 30ms/step - loss: 0.4835 - acc: 0.7740\nEpoch 29/50\n125/125 [==============================] - 4s 35ms/step - loss: 0.4813 - acc: 0.7675\nEpoch 30/50\n125/125 [==============================] - 3s 23ms/step - loss: 0.4975 - acc: 0.7575\nEpoch 31/50\n125/125 [==============================] - 2s 20ms/step - loss: 0.4714 - acc: 0.7735\nEpoch 32/50\n125/125 [==============================] - 3s 20ms/step - loss: 0.4790 - acc: 0.7705\nEpoch 33/50\n125/125 [==============================] - 3s 20ms/step - loss: 0.4862 - acc: 0.7585\nEpoch 34/50\n125/125 [==============================] - 3s 20ms/step - loss: 0.4824 - acc: 0.7740\nEpoch 35/50\n125/125 [==============================] - 3s 21ms/step - loss: 0.4936 - acc: 0.7460\nEpoch 36/50\n125/125 [==============================] - 3s 21ms/step - loss: 0.4625 - acc: 0.7800\nEpoch 37/50\n125/125 [==============================] - 3s 24ms/step - loss: 0.4502 - acc: 0.7895\nEpoch 38/50\n125/125 [==============================] - 3s 26ms/step - loss: 0.4360 - acc: 0.7896\nEpoch 39/50\n125/125 [==============================] - 3s 22ms/step - loss: 0.4539 - acc: 0.7935\nEpoch 40/50\n125/125 [==============================] - 3s 22ms/step - loss: 0.4635 - acc: 0.7810\nEpoch 41/50\n125/125 [==============================] - 3s 21ms/step - loss: 0.4470 - acc: 0.7835\nEpoch 42/50\n125/125 [==============================] - 3s 21ms/step - loss: 0.4626 - acc: 0.7875\nEpoch 43/50\n125/125 [==============================] - 3s 22ms/step - loss: 0.4763 - acc: 0.7665\nEpoch 44/50\n125/125 [==============================] - 3s 22ms/step - loss: 0.4401 - acc: 0.7925\nEpoch 45/50\n125/125 [==============================] - 3s 20ms/step - loss: 0.4325 - acc: 0.8030\nEpoch 46/50\n125/125 [==============================] - 3s 20ms/step - loss: 0.4160 - acc: 0.7985\nEpoch 47/50\n125/125 [==============================] - 3s 20ms/step - loss: 0.4228 - acc: 0.8051\nEpoch 48/50\n125/125 [==============================] - 3s 20ms/step - loss: 0.4252 - acc: 0.8015\nEpoch 49/50\n125/125 [==============================] - 2s 20ms/step - loss: 0.4259 - acc: 0.7920\nEpoch 50/50\n125/125 [==============================] - 3s 21ms/step - loss: 0.4249 - acc: 0.8140\n"
    },
    {
     "data": {
      "text/plain": "<tensorflow.python.keras.callbacks.History at 0x17c63976408>"
     },
     "execution_count": 21,
     "metadata": {},
     "output_type": "execute_result"
    }
   ],
   "source": [
    "model.fit_generator(\n",
    "        train_generator,\n",
    "        steps_per_epoch=2000 // BATCH_SIZE,\n",
    "        epochs=50)"
   ]
  },
  {
   "cell_type": "markdown",
   "execution_count": null,
   "metadata": {},
   "outputs": [],
   "source": [
    "## Valutiamo il Modello"
   ]
  },
  {
   "cell_type": "code",
   "execution_count": 22,
   "metadata": {},
   "outputs": [
    {
     "name": "stdout",
     "output_type": "stream",
     "text": "Train Accuracy = 0.8281 - Train Loss = 0.3816\nTest Accuracy = 0.7773 - Test Loss = 0.4657\n"
    }
   ],
   "source": [
    "metrics_train = model.evaluate_generator(train_generator, steps=batch_size)\n",
    "metrics_test = model.evaluate_generator(test_generator, steps=batch_size)\n",
    "\n",
    "print(\"Train Accuracy = %.4f - Train Loss = %.4f\" % (metrics_train[1], metrics_train[0]))\n",
    "print(\"Test Accuracy = %.4f - Test Loss = %.4f\" % (metrics_test[1], metrics_test[0]))"
   ]
  },
  {
   "cell_type": "markdown",
   "execution_count": null,
   "metadata": {},
   "outputs": [],
   "source": [
    "## Esportiamo il Modello"
   ]
  },
  {
   "cell_type": "code",
   "execution_count": null,
   "metadata": {},
   "outputs": [],
   "source": [
    "model.save(\"model_generator.h5\")"
   ]
  }
 ]
}